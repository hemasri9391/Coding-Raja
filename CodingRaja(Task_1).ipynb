{
  "nbformat": 4,
  "nbformat_minor": 0,
  "metadata": {
    "colab": {
      "provenance": [],
      "mount_file_id": "1-3GIssUqVwnyi7ch2kFPMctRuScCYSPJ",
      "authorship_tag": "ABX9TyPi/V+1RfJGJLan7Lu0QkdQ",
      "include_colab_link": true
    },
    "kernelspec": {
      "name": "python3",
      "display_name": "Python 3"
    },
    "language_info": {
      "name": "python"
    }
  },
  "cells": [
    {
      "cell_type": "markdown",
      "metadata": {
        "id": "view-in-github",
        "colab_type": "text"
      },
      "source": [
        "<a href=\"https://colab.research.google.com/github/hemasri9391/Coding-Raja/blob/main/CodingRaja(Task_1).ipynb\" target=\"_parent\"><img src=\"https://colab.research.google.com/assets/colab-badge.svg\" alt=\"Open In Colab\"/></a>"
      ]
    },
    {
      "cell_type": "code",
      "source": [
        "from google.colab import drive"
      ],
      "metadata": {
        "id": "P9dziPG05bOH"
      },
      "execution_count": 11,
      "outputs": []
    },
    {
      "cell_type": "code",
      "execution_count": 12,
      "metadata": {
        "id": "I8Qe-QrS10g6"
      },
      "outputs": [],
      "source": [
        "import numpy as np\n",
        "import pandas as pd"
      ]
    },
    {
      "cell_type": "code",
      "source": [
        "import re\n",
        "import nltk\n",
        "from nltk.corpus import stopwords\n",
        "from nltk.tokenize import word_tokenize\n",
        "nltk.download('stopwords')\n",
        "nltk.download('punkt')\n",
        "data = pd.read_csv('/content/drive/MyDrive/Tweets.csv')\n",
        "print(data)"
      ],
      "metadata": {
        "colab": {
          "base_uri": "https://localhost:8080/"
        },
        "id": "LVdEakkMe8Mr",
        "outputId": "bf40c7f2-8dfc-4bf0-a9ae-245ea002639e"
      },
      "execution_count": 13,
      "outputs": [
        {
          "output_type": "stream",
          "name": "stdout",
          "text": [
            "           tweet_id airline_sentiment  airline_sentiment_confidence  \\\n",
            "0      5.703060e+17           neutral                        1.0000   \n",
            "1      5.703010e+17          positive                        0.3486   \n",
            "2      5.703010e+17           neutral                        0.6837   \n",
            "3      5.703010e+17          negative                        1.0000   \n",
            "4      5.703010e+17          negative                        1.0000   \n",
            "...             ...               ...                           ...   \n",
            "14635  5.695880e+17          positive                        0.3487   \n",
            "14636  5.695870e+17          negative                        1.0000   \n",
            "14637  5.695870e+17           neutral                        1.0000   \n",
            "14638  5.695870e+17          negative                        1.0000   \n",
            "14639  5.695870e+17           neutral                        0.6771   \n",
            "\n",
            "               negativereason  negativereason_confidence         airline  \\\n",
            "0                         NaN                        NaN  Virgin America   \n",
            "1                         NaN                     0.0000  Virgin America   \n",
            "2                         NaN                        NaN  Virgin America   \n",
            "3                  Bad Flight                     0.7033  Virgin America   \n",
            "4                  Can't Tell                     1.0000  Virgin America   \n",
            "...                       ...                        ...             ...   \n",
            "14635                     NaN                     0.0000        American   \n",
            "14636  Customer Service Issue                     1.0000        American   \n",
            "14637                     NaN                        NaN        American   \n",
            "14638  Customer Service Issue                     0.6659        American   \n",
            "14639                     NaN                     0.0000        American   \n",
            "\n",
            "      airline_sentiment_gold             name negativereason_gold  \\\n",
            "0                        NaN          cairdin                 NaN   \n",
            "1                        NaN         jnardino                 NaN   \n",
            "2                        NaN       yvonnalynn                 NaN   \n",
            "3                        NaN         jnardino                 NaN   \n",
            "4                        NaN         jnardino                 NaN   \n",
            "...                      ...              ...                 ...   \n",
            "14635                    NaN  KristenReenders                 NaN   \n",
            "14636                    NaN         itsropes                 NaN   \n",
            "14637                    NaN         sanyabun                 NaN   \n",
            "14638                    NaN       SraJackson                 NaN   \n",
            "14639                    NaN        daviddtwu                 NaN   \n",
            "\n",
            "       retweet_count                                               text  \\\n",
            "0                  0                @VirginAmerica What @dhepburn said.   \n",
            "1                  0  @VirginAmerica plus you've added commercials t...   \n",
            "2                  0  @VirginAmerica I didn't today... Must mean I n...   \n",
            "3                  0  @VirginAmerica it's really aggressive to blast...   \n",
            "4                  0  @VirginAmerica and it's a really big bad thing...   \n",
            "...              ...                                                ...   \n",
            "14635              0  @AmericanAir thank you we got on a different f...   \n",
            "14636              0  @AmericanAir leaving over 20 minutes Late Flig...   \n",
            "14637              0  @AmericanAir Please bring American Airlines to...   \n",
            "14638              0  @AmericanAir you have my money, you change my ...   \n",
            "14639              0  @AmericanAir we have 8 ppl so we need 2 know h...   \n",
            "\n",
            "      tweet_coord     tweet_created tweet_location               user_timezone  \n",
            "0             NaN  24/02/2015 11:35            NaN  Eastern Time (US & Canada)  \n",
            "1             NaN  24/02/2015 11:15            NaN  Pacific Time (US & Canada)  \n",
            "2             NaN  24/02/2015 11:15      Lets Play  Central Time (US & Canada)  \n",
            "3             NaN  24/02/2015 11:15            NaN  Pacific Time (US & Canada)  \n",
            "4             NaN  24/02/2015 11:14            NaN  Pacific Time (US & Canada)  \n",
            "...           ...               ...            ...                         ...  \n",
            "14635         NaN  22/02/2015 12:01            NaN                         NaN  \n",
            "14636         NaN  22/02/2015 11:59          Texas                         NaN  \n",
            "14637         NaN  22/02/2015 11:59  Nigeria,lagos                         NaN  \n",
            "14638         NaN  22/02/2015 11:59     New Jersey  Eastern Time (US & Canada)  \n",
            "14639         NaN  22/02/2015 11:58     dallas, TX                         NaN  \n",
            "\n",
            "[14640 rows x 15 columns]\n"
          ]
        },
        {
          "output_type": "stream",
          "name": "stderr",
          "text": [
            "[nltk_data] Downloading package stopwords to /root/nltk_data...\n",
            "[nltk_data]   Package stopwords is already up-to-date!\n",
            "[nltk_data] Downloading package punkt to /root/nltk_data...\n",
            "[nltk_data]   Package punkt is already up-to-date!\n"
          ]
        }
      ]
    },
    {
      "cell_type": "code",
      "source": [
        "data.isnull().sum()"
      ],
      "metadata": {
        "colab": {
          "base_uri": "https://localhost:8080/",
          "height": 554
        },
        "id": "540OinPVfC_E",
        "outputId": "2cc2b140-a5a8-4941-cd12-bf50377ac110"
      },
      "execution_count": 14,
      "outputs": [
        {
          "output_type": "execute_result",
          "data": {
            "text/plain": [
              "tweet_id                            0\n",
              "airline_sentiment                   0\n",
              "airline_sentiment_confidence        0\n",
              "negativereason                   5462\n",
              "negativereason_confidence        4118\n",
              "airline                             0\n",
              "airline_sentiment_gold          14600\n",
              "name                                0\n",
              "negativereason_gold             14608\n",
              "retweet_count                       0\n",
              "text                                0\n",
              "tweet_coord                     13621\n",
              "tweet_created                       0\n",
              "tweet_location                   4733\n",
              "user_timezone                    4820\n",
              "dtype: int64"
            ],
            "text/html": [
              "<div>\n",
              "<style scoped>\n",
              "    .dataframe tbody tr th:only-of-type {\n",
              "        vertical-align: middle;\n",
              "    }\n",
              "\n",
              "    .dataframe tbody tr th {\n",
              "        vertical-align: top;\n",
              "    }\n",
              "\n",
              "    .dataframe thead th {\n",
              "        text-align: right;\n",
              "    }\n",
              "</style>\n",
              "<table border=\"1\" class=\"dataframe\">\n",
              "  <thead>\n",
              "    <tr style=\"text-align: right;\">\n",
              "      <th></th>\n",
              "      <th>0</th>\n",
              "    </tr>\n",
              "  </thead>\n",
              "  <tbody>\n",
              "    <tr>\n",
              "      <th>tweet_id</th>\n",
              "      <td>0</td>\n",
              "    </tr>\n",
              "    <tr>\n",
              "      <th>airline_sentiment</th>\n",
              "      <td>0</td>\n",
              "    </tr>\n",
              "    <tr>\n",
              "      <th>airline_sentiment_confidence</th>\n",
              "      <td>0</td>\n",
              "    </tr>\n",
              "    <tr>\n",
              "      <th>negativereason</th>\n",
              "      <td>5462</td>\n",
              "    </tr>\n",
              "    <tr>\n",
              "      <th>negativereason_confidence</th>\n",
              "      <td>4118</td>\n",
              "    </tr>\n",
              "    <tr>\n",
              "      <th>airline</th>\n",
              "      <td>0</td>\n",
              "    </tr>\n",
              "    <tr>\n",
              "      <th>airline_sentiment_gold</th>\n",
              "      <td>14600</td>\n",
              "    </tr>\n",
              "    <tr>\n",
              "      <th>name</th>\n",
              "      <td>0</td>\n",
              "    </tr>\n",
              "    <tr>\n",
              "      <th>negativereason_gold</th>\n",
              "      <td>14608</td>\n",
              "    </tr>\n",
              "    <tr>\n",
              "      <th>retweet_count</th>\n",
              "      <td>0</td>\n",
              "    </tr>\n",
              "    <tr>\n",
              "      <th>text</th>\n",
              "      <td>0</td>\n",
              "    </tr>\n",
              "    <tr>\n",
              "      <th>tweet_coord</th>\n",
              "      <td>13621</td>\n",
              "    </tr>\n",
              "    <tr>\n",
              "      <th>tweet_created</th>\n",
              "      <td>0</td>\n",
              "    </tr>\n",
              "    <tr>\n",
              "      <th>tweet_location</th>\n",
              "      <td>4733</td>\n",
              "    </tr>\n",
              "    <tr>\n",
              "      <th>user_timezone</th>\n",
              "      <td>4820</td>\n",
              "    </tr>\n",
              "  </tbody>\n",
              "</table>\n",
              "</div><br><label><b>dtype:</b> int64</label>"
            ]
          },
          "metadata": {},
          "execution_count": 14
        }
      ]
    },
    {
      "cell_type": "code",
      "source": [
        "data.fillna(1, inplace=True)\n",
        "print(data)"
      ],
      "metadata": {
        "colab": {
          "base_uri": "https://localhost:8080/"
        },
        "id": "r0CLO3VlfLTK",
        "outputId": "515f4592-4ab2-474e-abce-8293b8455835"
      },
      "execution_count": 15,
      "outputs": [
        {
          "output_type": "stream",
          "name": "stdout",
          "text": [
            "           tweet_id airline_sentiment  airline_sentiment_confidence  \\\n",
            "0      5.703060e+17           neutral                        1.0000   \n",
            "1      5.703010e+17          positive                        0.3486   \n",
            "2      5.703010e+17           neutral                        0.6837   \n",
            "3      5.703010e+17          negative                        1.0000   \n",
            "4      5.703010e+17          negative                        1.0000   \n",
            "...             ...               ...                           ...   \n",
            "14635  5.695880e+17          positive                        0.3487   \n",
            "14636  5.695870e+17          negative                        1.0000   \n",
            "14637  5.695870e+17           neutral                        1.0000   \n",
            "14638  5.695870e+17          negative                        1.0000   \n",
            "14639  5.695870e+17           neutral                        0.6771   \n",
            "\n",
            "               negativereason  negativereason_confidence         airline  \\\n",
            "0                           1                     1.0000  Virgin America   \n",
            "1                           1                     0.0000  Virgin America   \n",
            "2                           1                     1.0000  Virgin America   \n",
            "3                  Bad Flight                     0.7033  Virgin America   \n",
            "4                  Can't Tell                     1.0000  Virgin America   \n",
            "...                       ...                        ...             ...   \n",
            "14635                       1                     0.0000        American   \n",
            "14636  Customer Service Issue                     1.0000        American   \n",
            "14637                       1                     1.0000        American   \n",
            "14638  Customer Service Issue                     0.6659        American   \n",
            "14639                       1                     0.0000        American   \n",
            "\n",
            "      airline_sentiment_gold             name negativereason_gold  \\\n",
            "0                          1          cairdin                   1   \n",
            "1                          1         jnardino                   1   \n",
            "2                          1       yvonnalynn                   1   \n",
            "3                          1         jnardino                   1   \n",
            "4                          1         jnardino                   1   \n",
            "...                      ...              ...                 ...   \n",
            "14635                      1  KristenReenders                   1   \n",
            "14636                      1         itsropes                   1   \n",
            "14637                      1         sanyabun                   1   \n",
            "14638                      1       SraJackson                   1   \n",
            "14639                      1        daviddtwu                   1   \n",
            "\n",
            "       retweet_count                                               text  \\\n",
            "0                  0                @VirginAmerica What @dhepburn said.   \n",
            "1                  0  @VirginAmerica plus you've added commercials t...   \n",
            "2                  0  @VirginAmerica I didn't today... Must mean I n...   \n",
            "3                  0  @VirginAmerica it's really aggressive to blast...   \n",
            "4                  0  @VirginAmerica and it's a really big bad thing...   \n",
            "...              ...                                                ...   \n",
            "14635              0  @AmericanAir thank you we got on a different f...   \n",
            "14636              0  @AmericanAir leaving over 20 minutes Late Flig...   \n",
            "14637              0  @AmericanAir Please bring American Airlines to...   \n",
            "14638              0  @AmericanAir you have my money, you change my ...   \n",
            "14639              0  @AmericanAir we have 8 ppl so we need 2 know h...   \n",
            "\n",
            "      tweet_coord     tweet_created tweet_location               user_timezone  \n",
            "0               1  24/02/2015 11:35              1  Eastern Time (US & Canada)  \n",
            "1               1  24/02/2015 11:15              1  Pacific Time (US & Canada)  \n",
            "2               1  24/02/2015 11:15      Lets Play  Central Time (US & Canada)  \n",
            "3               1  24/02/2015 11:15              1  Pacific Time (US & Canada)  \n",
            "4               1  24/02/2015 11:14              1  Pacific Time (US & Canada)  \n",
            "...           ...               ...            ...                         ...  \n",
            "14635           1  22/02/2015 12:01              1                           1  \n",
            "14636           1  22/02/2015 11:59          Texas                           1  \n",
            "14637           1  22/02/2015 11:59  Nigeria,lagos                           1  \n",
            "14638           1  22/02/2015 11:59     New Jersey  Eastern Time (US & Canada)  \n",
            "14639           1  22/02/2015 11:58     dallas, TX                           1  \n",
            "\n",
            "[14640 rows x 15 columns]\n"
          ]
        }
      ]
    },
    {
      "cell_type": "code",
      "source": [
        "data.isnull().sum()"
      ],
      "metadata": {
        "colab": {
          "base_uri": "https://localhost:8080/",
          "height": 554
        },
        "id": "GZDJcpm9fN_n",
        "outputId": "71989e85-a090-4f4b-9ded-a36464a4a72e"
      },
      "execution_count": 16,
      "outputs": [
        {
          "output_type": "execute_result",
          "data": {
            "text/plain": [
              "tweet_id                        0\n",
              "airline_sentiment               0\n",
              "airline_sentiment_confidence    0\n",
              "negativereason                  0\n",
              "negativereason_confidence       0\n",
              "airline                         0\n",
              "airline_sentiment_gold          0\n",
              "name                            0\n",
              "negativereason_gold             0\n",
              "retweet_count                   0\n",
              "text                            0\n",
              "tweet_coord                     0\n",
              "tweet_created                   0\n",
              "tweet_location                  0\n",
              "user_timezone                   0\n",
              "dtype: int64"
            ],
            "text/html": [
              "<div>\n",
              "<style scoped>\n",
              "    .dataframe tbody tr th:only-of-type {\n",
              "        vertical-align: middle;\n",
              "    }\n",
              "\n",
              "    .dataframe tbody tr th {\n",
              "        vertical-align: top;\n",
              "    }\n",
              "\n",
              "    .dataframe thead th {\n",
              "        text-align: right;\n",
              "    }\n",
              "</style>\n",
              "<table border=\"1\" class=\"dataframe\">\n",
              "  <thead>\n",
              "    <tr style=\"text-align: right;\">\n",
              "      <th></th>\n",
              "      <th>0</th>\n",
              "    </tr>\n",
              "  </thead>\n",
              "  <tbody>\n",
              "    <tr>\n",
              "      <th>tweet_id</th>\n",
              "      <td>0</td>\n",
              "    </tr>\n",
              "    <tr>\n",
              "      <th>airline_sentiment</th>\n",
              "      <td>0</td>\n",
              "    </tr>\n",
              "    <tr>\n",
              "      <th>airline_sentiment_confidence</th>\n",
              "      <td>0</td>\n",
              "    </tr>\n",
              "    <tr>\n",
              "      <th>negativereason</th>\n",
              "      <td>0</td>\n",
              "    </tr>\n",
              "    <tr>\n",
              "      <th>negativereason_confidence</th>\n",
              "      <td>0</td>\n",
              "    </tr>\n",
              "    <tr>\n",
              "      <th>airline</th>\n",
              "      <td>0</td>\n",
              "    </tr>\n",
              "    <tr>\n",
              "      <th>airline_sentiment_gold</th>\n",
              "      <td>0</td>\n",
              "    </tr>\n",
              "    <tr>\n",
              "      <th>name</th>\n",
              "      <td>0</td>\n",
              "    </tr>\n",
              "    <tr>\n",
              "      <th>negativereason_gold</th>\n",
              "      <td>0</td>\n",
              "    </tr>\n",
              "    <tr>\n",
              "      <th>retweet_count</th>\n",
              "      <td>0</td>\n",
              "    </tr>\n",
              "    <tr>\n",
              "      <th>text</th>\n",
              "      <td>0</td>\n",
              "    </tr>\n",
              "    <tr>\n",
              "      <th>tweet_coord</th>\n",
              "      <td>0</td>\n",
              "    </tr>\n",
              "    <tr>\n",
              "      <th>tweet_created</th>\n",
              "      <td>0</td>\n",
              "    </tr>\n",
              "    <tr>\n",
              "      <th>tweet_location</th>\n",
              "      <td>0</td>\n",
              "    </tr>\n",
              "    <tr>\n",
              "      <th>user_timezone</th>\n",
              "      <td>0</td>\n",
              "    </tr>\n",
              "  </tbody>\n",
              "</table>\n",
              "</div><br><label><b>dtype:</b> int64</label>"
            ]
          },
          "metadata": {},
          "execution_count": 16
        }
      ]
    },
    {
      "cell_type": "markdown",
      "source": [
        "# Data Cleaning"
      ],
      "metadata": {
        "id": "my9Goc1bg46W"
      }
    },
    {
      "cell_type": "code",
      "source": [
        "def clean_text(text):\n",
        "    try:\n",
        "        text = re.sub(r'http\\S+', '', text)  # Remove URLs\n",
        "        text = re.sub(r'[^A-Za-z0-9\\s]', '', text)  # Remove special characters\n",
        "        text = text.lower()  # Convert to lowercase\n",
        "        tokens = word_tokenize(text)  # Tokenize text\n",
        "        tokens = [word for word in tokens if word not in stopwords.words('english')]  # Remove stopwords\n",
        "        return ' '.join(tokens)\n",
        "    except Exception as e:\n",
        "        print(f\"Error cleaning text: {e}\")\n",
        "        return ''\n",
        "data['cleaned_text'] = data['text'].apply(clean_text)\n",
        "data['sentiment'] = data['airline_sentiment']\n",
        "print(data.head())"
      ],
      "metadata": {
        "colab": {
          "base_uri": "https://localhost:8080/"
        },
        "id": "2p_d530TfTVH",
        "outputId": "15d204d7-aa01-4b2b-c099-4e273b90252e"
      },
      "execution_count": 17,
      "outputs": [
        {
          "output_type": "stream",
          "name": "stdout",
          "text": [
            "       tweet_id airline_sentiment  airline_sentiment_confidence  \\\n",
            "0  5.703060e+17           neutral                        1.0000   \n",
            "1  5.703010e+17          positive                        0.3486   \n",
            "2  5.703010e+17           neutral                        0.6837   \n",
            "3  5.703010e+17          negative                        1.0000   \n",
            "4  5.703010e+17          negative                        1.0000   \n",
            "\n",
            "  negativereason  negativereason_confidence         airline  \\\n",
            "0              1                     1.0000  Virgin America   \n",
            "1              1                     0.0000  Virgin America   \n",
            "2              1                     1.0000  Virgin America   \n",
            "3     Bad Flight                     0.7033  Virgin America   \n",
            "4     Can't Tell                     1.0000  Virgin America   \n",
            "\n",
            "  airline_sentiment_gold        name negativereason_gold  retweet_count  \\\n",
            "0                      1     cairdin                   1              0   \n",
            "1                      1    jnardino                   1              0   \n",
            "2                      1  yvonnalynn                   1              0   \n",
            "3                      1    jnardino                   1              0   \n",
            "4                      1    jnardino                   1              0   \n",
            "\n",
            "                                                text tweet_coord  \\\n",
            "0                @VirginAmerica What @dhepburn said.           1   \n",
            "1  @VirginAmerica plus you've added commercials t...           1   \n",
            "2  @VirginAmerica I didn't today... Must mean I n...           1   \n",
            "3  @VirginAmerica it's really aggressive to blast...           1   \n",
            "4  @VirginAmerica and it's a really big bad thing...           1   \n",
            "\n",
            "      tweet_created tweet_location               user_timezone  \\\n",
            "0  24/02/2015 11:35              1  Eastern Time (US & Canada)   \n",
            "1  24/02/2015 11:15              1  Pacific Time (US & Canada)   \n",
            "2  24/02/2015 11:15      Lets Play  Central Time (US & Canada)   \n",
            "3  24/02/2015 11:15              1  Pacific Time (US & Canada)   \n",
            "4  24/02/2015 11:14              1  Pacific Time (US & Canada)   \n",
            "\n",
            "                                        cleaned_text sentiment  \n",
            "0                        virginamerica dhepburn said   neutral  \n",
            "1  virginamerica plus youve added commercials exp...  positive  \n",
            "2  virginamerica didnt today must mean need take ...   neutral  \n",
            "3  virginamerica really aggressive blast obnoxiou...  negative  \n",
            "4                 virginamerica really big bad thing  negative  \n"
          ]
        }
      ]
    },
    {
      "cell_type": "markdown",
      "source": [
        "# Initialize TF-IDF Vectorizer\n",
        "## Transform cleaned text data into TF-IDF features"
      ],
      "metadata": {
        "id": "VYqKibUNgoET"
      }
    },
    {
      "cell_type": "code",
      "source": [
        "from sklearn.feature_extraction.text import TfidfVectorizer\n",
        "from sklearn.model_selection import train_test_split\n",
        "from sklearn.svm import LinearSVC\n",
        "from sklearn.metrics import accuracy_score, precision_score, recall_score, f1_score\n",
        "tfidf = TfidfVectorizer(max_features=5000)\n",
        "X = tfidf.fit_transform(data['cleaned_text'])\n",
        "y = data['sentiment']\n",
        "print(y)\n",
        "print(X)"
      ],
      "metadata": {
        "colab": {
          "base_uri": "https://localhost:8080/"
        },
        "id": "78N6Fec4fWT-",
        "outputId": "429b973d-16e8-4b0f-aafc-d1e2d0af488d"
      },
      "execution_count": 18,
      "outputs": [
        {
          "output_type": "stream",
          "name": "stdout",
          "text": [
            "0         neutral\n",
            "1        positive\n",
            "2         neutral\n",
            "3        negative\n",
            "4        negative\n",
            "           ...   \n",
            "14635    positive\n",
            "14636    negative\n",
            "14637     neutral\n",
            "14638    negative\n",
            "14639     neutral\n",
            "Name: sentiment, Length: 14640, dtype: object\n",
            "  (0, 3963)\t0.7804492509619093\n",
            "  (0, 4751)\t0.6252191349223044\n",
            "  (1, 1714)\t0.3262309797813148\n",
            "  (1, 1105)\t0.5323402481238068\n",
            "  (1, 419)\t0.4646953490459327\n",
            "  (1, 4983)\t0.40214203034688395\n",
            "  (1, 3453)\t0.4010894741072435\n",
            "  (1, 4751)\t0.2676835105536888\n",
            "  (2, 4592)\t0.3295624862425526\n",
            "  (2, 530)\t0.3124522610639693\n",
            "  (2, 4410)\t0.3133947144593962\n",
            "  (2, 3054)\t0.2691746797432603\n",
            "  (2, 2861)\t0.4099714098515178\n",
            "  (2, 3020)\t0.43755783507719914\n",
            "  (2, 4527)\t0.28784200187819176\n",
            "  (2, 1409)\t0.3271491867245501\n",
            "  (2, 4751)\t0.2714366824856235\n",
            "  (3, 3715)\t0.40047867672875\n",
            "  (3, 2708)\t0.28999218703262364\n",
            "  (3, 511)\t0.19251940029646653\n",
            "  (3, 1754)\t0.4189313382633334\n",
            "  (3, 2114)\t0.40877610580637036\n",
            "  (3, 1615)\t0.33374587756803836\n",
            "  (3, 449)\t0.4189313382633334\n",
            "  (3, 3693)\t0.22320793522309307\n",
            "  :\t:\n",
            "  (14637, 465)\t0.4674934316686232\n",
            "  (14637, 3445)\t0.3628504835063551\n",
            "  (14638, 4360)\t0.42455054806846776\n",
            "  (14638, 1106)\t0.46943700207186123\n",
            "  (14638, 3393)\t0.3886383646464884\n",
            "  (14638, 2816)\t0.2644970041802674\n",
            "  (14638, 505)\t0.14135649324431734\n",
            "  (14638, 2974)\t0.32957363518782135\n",
            "  (14638, 531)\t0.32137254979993324\n",
            "  (14638, 971)\t0.2661233358405733\n",
            "  (14638, 1481)\t0.23987455091476648\n",
            "  (14638, 1892)\t0.13470376576577922\n",
            "  (14639, 3618)\t0.261743019404088\n",
            "  (14639, 3492)\t0.33200595391975074\n",
            "  (14639, 505)\t0.12075801478070686\n",
            "  (14639, 4275)\t0.30983219907811343\n",
            "  (14639, 2832)\t0.2754173356778589\n",
            "  (14639, 3353)\t0.23058886254096939\n",
            "  (14639, 4705)\t0.19143111483028896\n",
            "  (14639, 3454)\t0.3384140759280187\n",
            "  (14639, 3081)\t0.4780917448884882\n",
            "  (14639, 2594)\t0.21930659194383748\n",
            "  (14639, 4038)\t0.24670311883994983\n",
            "  (14639, 1892)\t0.23014944646718263\n",
            "  (14639, 3054)\t0.19997490704948667\n"
          ]
        }
      ]
    },
    {
      "cell_type": "markdown",
      "source": [
        "## Split data into training and testing sets\n",
        "## Initialize and train the SVM model\n",
        "## Predict on the test set"
      ],
      "metadata": {
        "id": "AjqH71_rgSr6"
      }
    },
    {
      "cell_type": "code",
      "source": [
        "X_train, X_test, y_train, y_test = train_test_split(X, y, test_size=0.2, random_state=42)\n",
        "model = LinearSVC()\n",
        "model.fit(X_train, y_train)\n",
        "y_pred = model.predict(X_test)\n",
        "print(y_pred)"
      ],
      "metadata": {
        "colab": {
          "base_uri": "https://localhost:8080/"
        },
        "id": "6RvlEmU8fi57",
        "outputId": "0bb372e0-8b4e-4a8d-d2a5-2fb8c2e90954"
      },
      "execution_count": 19,
      "outputs": [
        {
          "output_type": "stream",
          "name": "stdout",
          "text": [
            "['positive' 'negative' 'negative' ... 'negative' 'neutral' 'negative']\n"
          ]
        },
        {
          "output_type": "stream",
          "name": "stderr",
          "text": [
            "/usr/local/lib/python3.10/dist-packages/sklearn/svm/_classes.py:32: FutureWarning: The default value of `dual` will change from `True` to `'auto'` in 1.5. Set the value of `dual` explicitly to suppress the warning.\n",
            "  warnings.warn(\n"
          ]
        }
      ]
    },
    {
      "cell_type": "markdown",
      "source": [
        "# **Calculate evaluation metrics **"
      ],
      "metadata": {
        "id": "9jYFCXx6gA5-"
      }
    },
    {
      "cell_type": "code",
      "source": [
        "accuracy = accuracy_score(y_test, y_pred)\n",
        "precision = precision_score(y_test, y_pred, average='weighted')\n",
        "recall = recall_score(y_test, y_pred, average='weighted')\n",
        "f1 = f1_score(y_test, y_pred, average='weighted')\n",
        "print(f'Accuracy: {accuracy}')\n",
        "print(f'Precision: {precision}')\n",
        "print(f'Recall: {recall}')\n",
        "print(f'F1-score: {f1}')"
      ],
      "metadata": {
        "colab": {
          "base_uri": "https://localhost:8080/"
        },
        "id": "8U7r7Zk6f4mO",
        "outputId": "8a1e3d6f-d544-4a16-89ce-ee03c88cae95"
      },
      "execution_count": 20,
      "outputs": [
        {
          "output_type": "stream",
          "name": "stdout",
          "text": [
            "Accuracy: 0.792691256830601\n",
            "Precision: 0.7834889991370092\n",
            "Recall: 0.792691256830601\n",
            "F1-score: 0.7860062377433323\n"
          ]
        }
      ]
    }
  ]
}
